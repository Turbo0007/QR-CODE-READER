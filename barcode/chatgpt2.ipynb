{
 "cells": [
  {
   "cell_type": "code",
   "execution_count": 2,
   "metadata": {},
   "outputs": [],
   "source": [
    "import openai\n",
    "\n"
   ]
  },
  {
   "cell_type": "code",
   "execution_count": 4,
   "metadata": {},
   "outputs": [
    {
     "name": "stdout",
     "output_type": "stream",
     "text": [
      "Chatbot: Qutub Minar is a historical tower in Delhi, India. It is the tallest brick minaret in the world, standing at a height of 73 meters (239.5 feet). The construction of the tower was initiated by Qutb-ud-din Aibak in 1193, and it was completed by his successor and son-in-law Iltutmish. The tower has five storeys with intricately carved balconies and projecting corbels. It is made up of red sandstone and marble and is an important landmark and tourist attraction in Delhi.\n"
     ]
    }
   ],
   "source": [
    "\n",
    "\n",
    "# Set OpenAI API key\n",
    "openai.api_key = 'your_api_key'\n",
    "\n",
    "# Read message from file\n",
    "with open(\"file_path.txt\", \"r\") as f:\n",
    "    message = f.read().strip()\n",
    "\n",
    "# Create initial message\n",
    "messages = [{\"role\": \"system\", \"content\": \"You are an intelligent assistant.\"}]\n",
    "\n",
    "# Append user message from file to messages list\n",
    "if message:\n",
    "    messages.append({\"role\": \"user\", \"content\": message})\n",
    "\n",
    "# Send messages to OpenAI chatbot\n",
    "chat = openai.ChatCompletion.create(model=\"gpt-3.5-turbo\", messages=messages)\n",
    "\n",
    "# Get response from chatbot and display it\n",
    "reply = chat.choices[0].message.content\n",
    "print(f\"Chatbot: {reply}\")\n"
   ]
  }
 ],
 "metadata": {
  "kernelspec": {
   "display_name": "Python 3",
   "language": "python",
   "name": "python3"
  },
  "language_info": {
   "codemirror_mode": {
    "name": "ipython",
    "version": 3
   },
   "file_extension": ".py",
   "mimetype": "text/x-python",
   "name": "python",
   "nbconvert_exporter": "python",
   "pygments_lexer": "ipython3",
   "version": "3.11.3"
  },
  "orig_nbformat": 4
 },
 "nbformat": 4,
 "nbformat_minor": 2
}
